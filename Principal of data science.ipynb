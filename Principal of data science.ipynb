{
  "nbformat": 4,
  "nbformat_minor": 0,
  "metadata": {
    "colab": {
      "provenance": [],
      "toc_visible": true,
      "include_colab_link": true
    },
    "kernelspec": {
      "name": "python3",
      "display_name": "Python 3"
    },
    "language_info": {
      "name": "python"
    }
  },
  "cells": [
    {
      "cell_type": "markdown",
      "metadata": {
        "id": "view-in-github",
        "colab_type": "text"
      },
      "source": [
        "<a href=\"https://colab.research.google.com/github/Code0710/Ds/blob/main/Principal%20of%20data%20science.ipynb\" target=\"_parent\"><img src=\"https://colab.research.google.com/assets/colab-badge.svg\" alt=\"Open In Colab\"/></a>"
      ]
    },
    {
      "cell_type": "markdown",
      "source": [
        "Practical 1: XML to horus"
      ],
      "metadata": {
        "id": "IuaYjZTs_ztp"
      }
    },
    {
      "cell_type": "code",
      "execution_count": null,
      "metadata": {
        "colab": {
          "base_uri": "https://localhost:8080/"
        },
        "id": "04quu3e0-WjP",
        "outputId": "4ea68039-27c2-4278-da58-d752fe30d5e9"
      },
      "outputs": [
        {
          "output_type": "stream",
          "name": "stdout",
          "text": [
            "XML to CSV format\n",
            "      name        phone              email\n",
            "0    Umang    789456123    umang@gmail.com\n",
            "1  Gaurang    123654789  gaurang@gmail.com\n",
            "2     Zaid    852136479     zaid@gmail.com\n",
            "3   Heeba   15975364280    heeba@gmail.com\n",
            "4   Dhwani    164379826   dhwani@gmail.com\n",
            "5    Rahul   8794651320    rahul@gmail.com\n",
            "Done\n"
          ]
        }
      ],
      "source": [
        "import pandas as pd\n",
        "import xml.etree.ElementTree as ET\n",
        "\n",
        "cols = [\"name\", \"phone\", \"email\"]\n",
        "rows = []\n",
        "\n",
        "# Parse XML file\n",
        "tree = ET.parse('employee.xml')\n",
        "root = tree.getroot()\n",
        "\n",
        "for elem in root:\n",
        "    name = elem.find('name').text\n",
        "    phone = elem.find('phone').text\n",
        "    email = elem.find('email').text\n",
        "    rows.append({\"name\": name, \"phone\": phone, \"email\": email})\n",
        "\n",
        "df = pd.DataFrame(rows, columns=cols)\n",
        "df.to_csv('employee.csv', index=False)\n",
        "print(\"XML to CSV format\")\n",
        "emp = pd.read_csv('employee.csv')\n",
        "print(emp)\n",
        "print('Done')\n"
      ]
    },
    {
      "cell_type": "markdown",
      "source": [
        "Practical 2: Json to Horus"
      ],
      "metadata": {
        "id": "93Fd8-dIDuKd"
      }
    },
    {
      "cell_type": "code",
      "source": [
        "import pandas as pd\n",
        "import json\n",
        "import csv\n",
        "\n",
        "with open('data.json') as json_file:\n",
        "    data = json.load(json_file)\n",
        "    employee_data = data['emp_details']\n",
        "\n",
        "data_file = open('data_file.csv', 'w', newline='')\n",
        "csv_writer = csv.writer(data_file)\n",
        "\n",
        "count = 0\n",
        "for emp in employee_data:\n",
        "    if count == 0:\n",
        "        # Writing headers of CSV file\n",
        "        header = emp.keys()\n",
        "        csv_writer.writerow(header)\n",
        "        count += 1\n",
        "    # Writing data of CSV file\n",
        "    csv_writer.writerow(emp.values())\n",
        "\n",
        "data_file.close()\n"
      ],
      "metadata": {
        "id": "MlvIzemIDws9"
      },
      "execution_count": null,
      "outputs": []
    },
    {
      "cell_type": "markdown",
      "source": [
        "PRACTICAL 03: CONVERT FROM SQL TO HORUS\n"
      ],
      "metadata": {
        "id": "Qatwr2csEkuc"
      }
    },
    {
      "cell_type": "code",
      "source": [
        "#Code: Step 01: Convert CSV file to SQL HORUS\n",
        "import pandas as pd\n",
        "import sqlite3 as sq\n",
        "\n",
        "\n",
        "sInputFileName = 'student.csv'\n",
        "InputData = pd.read_csv(sInputFileName)\n",
        "print(InputData)\n",
        "\n",
        "ProcessData = InputData\n",
        "OutputData = ProcessData\n",
        "\n",
        "SOutputFileName = 'utility.db'\n",
        "sOutputTable = 'Employee'\n",
        "\n",
        "with sq.connect(SOutputFileName) as conn:\n",
        "    OutputData.to_sql(sOutputTable, conn, if_exists=\"replace\")\n",
        "\n",
        "print('Done')\n",
        "\n",
        "#Code: Step 02: Convert SQL to HORUS \n",
        "import pandas as pd\n",
        "import sqlite3 as sq\n",
        "\n",
        "\n",
        "sInputFileName = 'utility.db'\n",
        "sInputTable = 'Employee'\n",
        "\n",
        "# Creating connection\n",
        "conn = sq.connect(sInputFileName)\n",
        "\n",
        "sSql = 'select * from ' + sInputTable + ';'\n",
        "InputData = pd.read_sql_query(sSql, conn)\n",
        "print(InputData)\n",
        "\n",
        "ProcessData = InputData.copy()\n",
        "# Remove the column\n",
        "ProcessData.drop('email', axis=1, inplace=True)\n",
        "\n",
        "print(\"===============Process data value===============\")\n",
        "print(ProcessData)\n",
        "\n",
        "# Rename the columns\n",
        "ProcessData.rename(columns={'name': 'emp_name', 'phone': 'emp_Phone'}, inplace=True)\n",
        "print(ProcessData)\n",
        "\n",
        "OutputData = ProcessData\n",
        "OutputData.to_csv('Practical04.csv', index=False)\n",
        "print('Done')\n"
      ],
      "metadata": {
        "colab": {
          "base_uri": "https://localhost:8080/"
        },
        "id": "ODRWCM2vElW6",
        "outputId": "63c84a24-bcae-4754-97b0-7ccefdcbf40a"
      },
      "execution_count": null,
      "outputs": [
        {
          "output_type": "stream",
          "name": "stdout",
          "text": [
            "      name        phone              email        date\n",
            "0    Umang    789456123    umang@gmail.com  07/10/2021\n",
            "1  Gaurang    123654789  gaurang@gmail.com  08/12/2022\n",
            "2     Zaid    852136479     zaid@gmail.com  05/06/2012\n",
            "3   Heeba   15975364280    heeba@gmail.com  05/07/2021\n",
            "4   Dhwani    164379826   dhwani@gmail.com  22/11/2022\n",
            "5    Rahul   8794651320    rahul@gmail.com  26/11/2011\n",
            "Done\n",
            "   index     name        phone              email        date\n",
            "0      0    Umang    789456123    umang@gmail.com  07/10/2021\n",
            "1      1  Gaurang    123654789  gaurang@gmail.com  08/12/2022\n",
            "2      2     Zaid    852136479     zaid@gmail.com  05/06/2012\n",
            "3      3   Heeba   15975364280    heeba@gmail.com  05/07/2021\n",
            "4      4   Dhwani    164379826   dhwani@gmail.com  22/11/2022\n",
            "5      5    Rahul   8794651320    rahul@gmail.com  26/11/2011\n",
            "===============Process data value===============\n",
            "   index     name        phone        date\n",
            "0      0    Umang    789456123  07/10/2021\n",
            "1      1  Gaurang    123654789  08/12/2022\n",
            "2      2     Zaid    852136479  05/06/2012\n",
            "3      3   Heeba   15975364280  05/07/2021\n",
            "4      4   Dhwani    164379826  22/11/2022\n",
            "5      5    Rahul   8794651320  26/11/2011\n",
            "   index emp_name    emp_Phone        date\n",
            "0      0    Umang    789456123  07/10/2021\n",
            "1      1  Gaurang    123654789  08/12/2022\n",
            "2      2     Zaid    852136479  05/06/2012\n",
            "3      3   Heeba   15975364280  05/07/2021\n",
            "4      4   Dhwani    164379826  22/11/2022\n",
            "5      5    Rahul   8794651320  26/11/2011\n",
            "Done\n"
          ]
        }
      ]
    },
    {
      "cell_type": "markdown",
      "source": [
        "PRACTICAL 04: CONVERT ALL FORMATS TO HORUS\n"
      ],
      "metadata": {
        "id": "pNV4SDpdFpGi"
      }
    },
    {
      "cell_type": "code",
      "source": [
        "import pandas as pd\n",
        "import xml.etree.ElementTree as ET\n",
        "\n",
        "# Define columns for CSV file\n",
        "cols = [\"name\", \"phone\", \"email\"]\n",
        "\n",
        "# Create an empty list to store data rows\n",
        "rows = []\n",
        "\n",
        "# Parse the XML file and extract data\n",
        "tree = ET.parse('employee.xml')\n",
        "root = tree.getroot()\n",
        "for elem in root:\n",
        "    name = elem.find('name').text\n",
        "    phone = elem.find('phone').text\n",
        "    email = elem.find('email').text\n",
        "    rows.append({\"name\": name, \"phone\": phone, \"email\": email})\n",
        "\n",
        "# Create a DataFrame from the extracted data and save it to CSV file\n",
        "df = pd.DataFrame(rows, columns=cols)\n",
        "df.to_csv('employee.csv', index=False)\n",
        "\n",
        "# Append the CSV data to the AllinOne.csv file\n",
        "df.to_csv('AllinOne.csv', mode='a', index=False, header=True)\n",
        "\n",
        "# Print status message\n",
        "print(\"XML to CSV format\")\n",
        "emp = pd.read_csv('employee.csv')\n",
        "print(emp)\n",
        "\n",
        "# Read the Practical01_student.csv file and append its data to AllinOne.csv\n",
        "sInputFileName = 'student.csv'\n",
        "InputData = pd.read_csv(sInputFileName)\n",
        "print(\"CSV to CSV format\")\n",
        "print(\"============Input Data Value============\")\n",
        "print(InputData)\n",
        "\n",
        "ProcessData = InputData\n",
        "OutputData = ProcessData\n",
        "OutputData.to_csv('AllinOne.csv', mode='a', index=False, header=True)\n",
        "\n",
        "# Print status message\n",
        "print('Done')\n"
      ],
      "metadata": {
        "colab": {
          "base_uri": "https://localhost:8080/"
        },
        "id": "YA1-_A8HFpxt",
        "outputId": "11e21765-71cf-4352-de47-46d3af74c2dd"
      },
      "execution_count": null,
      "outputs": [
        {
          "output_type": "stream",
          "name": "stdout",
          "text": [
            "XML to CSV format\n",
            "      name        phone              email\n",
            "0    Umang    789456123    umang@gmail.com\n",
            "1  Gaurang    123654789  gaurang@gmail.com\n",
            "2     Zaid    852136479     zaid@gmail.com\n",
            "3   Heeba   15975364280    heeba@gmail.com\n",
            "4   Dhwani    164379826   dhwani@gmail.com\n",
            "5    Rahul   8794651320    rahul@gmail.com\n",
            "CSV to CSV format\n",
            "============Input Data Value============\n",
            "      name        phone              email        date\n",
            "0    Umang    789456123    umang@gmail.com  07/10/2021\n",
            "1  Gaurang    123654789  gaurang@gmail.com  08/12/2022\n",
            "2     Zaid    852136479     zaid@gmail.com  05/06/2012\n",
            "3   Heeba   15975364280    heeba@gmail.com  05/07/2021\n",
            "4   Dhwani    164379826   dhwani@gmail.com  22/11/2022\n",
            "5    Rahul   8794651320    rahul@gmail.com  26/11/2011\n",
            "Done\n"
          ]
        }
      ]
    },
    {
      "cell_type": "markdown",
      "source": [
        "PRACTICAL 05: CONVERT FROM IMAGE TO HORUS\n"
      ],
      "metadata": {
        "id": "MdZdKyChGM5m"
      }
    },
    {
      "cell_type": "code",
      "source": [
        "from PIL import Image\n",
        "import numpy as np\n",
        "\n",
        "# 1. Read image\n",
        "img = Image.open('image.jpg')\n",
        "\n",
        "# 2. Convert image to NumPy array\n",
        "arr = np.asarray(img)\n",
        "print(arr.shape)\n",
        "\n",
        "# 3. Convert 3D array to 2D list of lists\n",
        "lst = []\n",
        "for row in arr:\n",
        "    tmp = []\n",
        "    for col in row:\n",
        "        tmp.append(str(col))\n",
        "    lst.append(tmp)\n",
        "\n",
        "# 4. Save list of lists to CSV\n",
        "with open('my_file.csv', 'w') as f:\n",
        "    for row in lst:\n",
        "        f.write(','.join(row) + '\\n')\n"
      ],
      "metadata": {
        "colab": {
          "base_uri": "https://localhost:8080/"
        },
        "id": "Jw11IJcCGNoH",
        "outputId": "f2b14b30-47b0-4ca3-bf3e-9996c40e9d4c"
      },
      "execution_count": null,
      "outputs": [
        {
          "output_type": "stream",
          "name": "stdout",
          "text": [
            "(183, 275, 3)\n"
          ]
        }
      ]
    },
    {
      "cell_type": "markdown",
      "source": [
        "PRACTICAL 06: CONVERT FROM VIDEO TO HORUS\n"
      ],
      "metadata": {
        "id": "Yh0CO1n2Hu_L"
      }
    },
    {
      "cell_type": "code",
      "source": [
        "import cv2\n",
        "import os\n",
        "\n",
        "# Read the video from specified path\n",
        "cam = cv2.VideoCapture('cat.mp4')\n",
        "\n",
        "try:\n",
        "    if not os.path.exists('temp'):\n",
        "        os.mkdir('temp')\n",
        "except OSError:\n",
        "    print(\"Error: Creating Directory\")\n",
        "\n",
        "# Frame\n",
        "currentframe = 0\n",
        "\n",
        "while (True):\n",
        "    ret, frame = cam.read()\n",
        "\n",
        "    if ret:\n",
        "        name = './temp/' + str(currentframe) + '.jpg'\n",
        "        print('Creating Frame', currentframe)\n",
        "        cv2.imwrite(name, frame)\n",
        "        currentframe += 1\n",
        "    else:\n",
        "        break\n",
        "\n",
        "cam.release()\n",
        "cv2.destroyAllWindows()\n"
      ],
      "metadata": {
        "colab": {
          "base_uri": "https://localhost:8080/"
        },
        "id": "QPkVmE4ZHxeU",
        "outputId": "5622cc57-40b3-4514-88f9-28573de5e328"
      },
      "execution_count": null,
      "outputs": [
        {
          "output_type": "stream",
          "name": "stdout",
          "text": [
            "Creating Frame 0\n",
            "Creating Frame 1\n",
            "Creating Frame 2\n",
            "Creating Frame 3\n",
            "Creating Frame 4\n",
            "Creating Frame 5\n",
            "Creating Frame 6\n",
            "Creating Frame 7\n",
            "Creating Frame 8\n",
            "Creating Frame 9\n",
            "Creating Frame 10\n",
            "Creating Frame 11\n",
            "Creating Frame 12\n",
            "Creating Frame 13\n",
            "Creating Frame 14\n",
            "Creating Frame 15\n",
            "Creating Frame 16\n",
            "Creating Frame 17\n",
            "Creating Frame 18\n",
            "Creating Frame 19\n",
            "Creating Frame 20\n",
            "Creating Frame 21\n",
            "Creating Frame 22\n",
            "Creating Frame 23\n",
            "Creating Frame 24\n",
            "Creating Frame 25\n",
            "Creating Frame 26\n",
            "Creating Frame 27\n",
            "Creating Frame 28\n",
            "Creating Frame 29\n",
            "Creating Frame 30\n",
            "Creating Frame 31\n",
            "Creating Frame 32\n",
            "Creating Frame 33\n",
            "Creating Frame 34\n",
            "Creating Frame 35\n",
            "Creating Frame 36\n",
            "Creating Frame 37\n",
            "Creating Frame 38\n",
            "Creating Frame 39\n",
            "Creating Frame 40\n",
            "Creating Frame 41\n",
            "Creating Frame 42\n",
            "Creating Frame 43\n",
            "Creating Frame 44\n",
            "Creating Frame 45\n",
            "Creating Frame 46\n",
            "Creating Frame 47\n",
            "Creating Frame 48\n",
            "Creating Frame 49\n",
            "Creating Frame 50\n"
          ]
        }
      ]
    },
    {
      "cell_type": "markdown",
      "source": [
        "PRACTICAL 07: CONVERT FROM AUDIO TO HORUS\n"
      ],
      "metadata": {
        "id": "3TnYyIWHI_9j"
      }
    },
    {
      "cell_type": "code",
      "source": [
        "# Utility Start Audio to HORUS ===============================\n",
        "# Standard Tools\n",
        "#=============================================================\n",
        "from scipy.io import wavfile\n",
        "import pandas as pd\n",
        "import matplotlib.pyplot as plt\n",
        "import numpy as np\n",
        "#=============================================================\n",
        "def show_info(aname, a,r):\n",
        "    print ('----------------')\n",
        "    print (\"Audio:\", aname)\n",
        "    print ('----------------')\n",
        "    print (\"Rate:\", r)\n",
        "    print ('----------------')\n",
        "    print (\"shape:\", a.shape)\n",
        "    print (\"dtype:\", a.dtype)\n",
        "    print (\"min, max:\", a.min(), a.max())\n",
        "    print ('----------------')\n",
        "    plot_info(aname, a,r)\n",
        "#=============================================================\n",
        "def plot_info(aname, a,r):\n",
        "    sTitle= 'Signal Wave - '+ aname + ' at ' + str(r) + 'hz'\n",
        "    plt.title(sTitle)\n",
        "    sLegend=[]\n",
        "    for c in range(a.shape[1]):\n",
        "        sLabel = 'Ch' + str(c+1)\n",
        "        sLegend=sLegend+[str(c+1)]\n",
        "        plt.plot(a[:,c], label=sLabel)\n",
        "    plt.legend(sLegend)\n",
        "    plt.show()\n",
        "sInputFileName='audio.wav'\n",
        "print('=====================================================')\n",
        "print('Processing : ', sInputFileName)\n",
        "print('=====================================================')\n",
        "InputRate, InputData = wavfile.read(sInputFileName)\n",
        "show_info(\"2 channel\", InputData,InputRate)\n",
        "ProcessData=pd.DataFrame(InputData)\n",
        "sColumns= ['Ch1','Ch2']\n",
        "ProcessData.columns=sColumns\n",
        "OutputData=ProcessData\n",
        "sOutputFileName='HORUS-Audio-2ch.csv'\n",
        "OutputData.to_csv(sOutputFileName, index = False)\n",
        "#=============================================================\n",
        "print('=====================================================')\n",
        "print('Audio to HORUS - Done')\n",
        "print('=====================================================')\n",
        "#=============================================================\n",
        "# Utility done ===============================================\n",
        "#=============================================================\n"
      ],
      "metadata": {
        "colab": {
          "base_uri": "https://localhost:8080/",
          "height": 741
        },
        "id": "-GAum5rTI_Hn",
        "outputId": "2c6a978d-7847-4d2e-f66c-91f916de314f"
      },
      "execution_count": null,
      "outputs": [
        {
          "output_type": "stream",
          "name": "stdout",
          "text": [
            "=====================================================\n",
            "Processing :  audio.wav\n",
            "=====================================================\n",
            "----------------\n",
            "Audio: 2 channel\n",
            "----------------\n",
            "Rate: 8000\n",
            "----------------\n",
            "shape: (268237, 2)\n",
            "dtype: int16\n",
            "min, max: -31250 30849\n",
            "----------------\n"
          ]
        },
        {
          "output_type": "stream",
          "name": "stderr",
          "text": [
            "<ipython-input-42-744a6806486a>:35: WavFileWarning: Chunk (non-data) not understood, skipping it.\n",
            "  InputRate, InputData = wavfile.read(sInputFileName)\n"
          ]
        },
        {
          "output_type": "display_data",
          "data": {
            "text/plain": [
              "<Figure size 640x480 with 1 Axes>"
            ],
            "image/png": "[encoded data removed]"
          },
          "metadata": {}
        },
        {
          "output_type": "stream",
          "name": "stdout",
          "text": [
            "=====================================================\n",
            "Audio to HORUS - Done\n",
            "=====================================================\n"
          ]
        }
      ]
    }
  ]
}